{
 "cells": [
  {
   "cell_type": "code",
   "execution_count": 1,
   "metadata": {},
   "outputs": [
    {
     "name": "stdout",
     "output_type": "stream",
     "text": [
      "Requirement already satisfied: torch in ./venv/lib/python3.12/site-packages (2.2.2)\n",
      "Requirement already satisfied: filelock in ./venv/lib/python3.12/site-packages (from torch) (3.13.4)\n",
      "Requirement already satisfied: typing-extensions>=4.8.0 in ./venv/lib/python3.12/site-packages (from torch) (4.11.0)\n",
      "Requirement already satisfied: sympy in ./venv/lib/python3.12/site-packages (from torch) (1.12)\n",
      "Requirement already satisfied: networkx in ./venv/lib/python3.12/site-packages (from torch) (3.3)\n",
      "Requirement already satisfied: jinja2 in ./venv/lib/python3.12/site-packages (from torch) (3.1.3)\n",
      "Requirement already satisfied: fsspec in ./venv/lib/python3.12/site-packages (from torch) (2024.3.1)\n",
      "Requirement already satisfied: MarkupSafe>=2.0 in ./venv/lib/python3.12/site-packages (from jinja2->torch) (2.1.5)\n",
      "Requirement already satisfied: mpmath>=0.19 in ./venv/lib/python3.12/site-packages (from sympy->torch) (1.3.0)\n",
      "Note: you may need to restart the kernel to use updated packages.\n"
     ]
    }
   ],
   "source": [
    "%pip install torch"
   ]
  },
  {
   "cell_type": "code",
   "execution_count": 20,
   "metadata": {},
   "outputs": [
    {
     "ename": "RuntimeError",
     "evalue": "a Tensor with 6 elements cannot be converted to Scalar",
     "output_type": "error",
     "traceback": [
      "\u001b[0;31m---------------------------------------------------------------------------\u001b[0m",
      "\u001b[0;31mRuntimeError\u001b[0m                              Traceback (most recent call last)",
      "Cell \u001b[0;32mIn[20], line 7\u001b[0m\n\u001b[1;32m      5\u001b[0m x_squeezed \u001b[38;5;241m=\u001b[39m x\u001b[38;5;241m.\u001b[39msqueeze()\n\u001b[1;32m      6\u001b[0m x_unsqueezed \u001b[38;5;241m=\u001b[39m x\u001b[38;5;241m.\u001b[39munsqueeze(\u001b[38;5;241m0\u001b[39m)\n\u001b[0;32m----> 7\u001b[0m \u001b[38;5;28mprint\u001b[39m(\u001b[43mx_unsqueezed\u001b[49m\u001b[38;5;241;43m.\u001b[39;49m\u001b[43mitem\u001b[49m\u001b[43m(\u001b[49m\u001b[43m)\u001b[49m)\n\u001b[1;32m      9\u001b[0m \u001b[38;5;28mprint\u001b[39m(x)\n\u001b[1;32m     10\u001b[0m \u001b[38;5;28mprint\u001b[39m(x_squeezed)\n",
      "\u001b[0;31mRuntimeError\u001b[0m: a Tensor with 6 elements cannot be converted to Scalar"
     ]
    }
   ],
   "source": [
    "import torch\n",
    "\n",
    "# 形状が(3, 1, 2)のテンソルを作成\n",
    "x = torch.randn(3, 1, 2)\n",
    "x_squeezed = x.squeeze()\n",
    "x_unsqueezed = x.unsqueeze(0)\n",
    "\n",
    "print(x)\n",
    "print(x_squeezed)\n",
    "print(x_unsqueezed)"
   ]
  },
  {
   "cell_type": "code",
   "execution_count": 21,
   "metadata": {},
   "outputs": [
    {
     "name": "stdout",
     "output_type": "stream",
     "text": [
      "tensor([[[ 0.9920,  1.6408]],\n",
      "\n",
      "        [[-1.5058,  0.2638]]])\n"
     ]
    }
   ],
   "source": [
    "# テンソルに対してindexの配列渡して、そのindexの要素を取得\n",
    "idx = [0, 2]\n",
    "print(x[idx])"
   ]
  },
  {
   "cell_type": "code",
   "execution_count": 24,
   "metadata": {},
   "outputs": [
    {
     "name": "stdout",
     "output_type": "stream",
     "text": [
      "array.shape=torch.Size([2, 3, 4])\n",
      "array.argmax(axis=0)=\n",
      "tensor([[0, 0, 1, 1],\n",
      "        [0, 1, 0, 0],\n",
      "        [1, 0, 1, 1]])\n",
      "array.argmax(axis=1)=\n",
      "tensor([[0, 2, 1, 1],\n",
      "        [2, 1, 0, 2]])\n",
      "array.argmax(axis=2)=\n",
      "tensor([[1, 1, 1],\n",
      "        [2, 1, 0]])\n",
      "tensor(9)\n",
      "tensor([[1, 1, 1],\n",
      "        [2, 1, 0]])\n"
     ]
    }
   ],
   "source": [
    "# argmaxの使い方\n",
    "# 下記の3次元配列を使う\n",
    "array = torch.tensor(\n",
    "    [\n",
    "        [\n",
    "            [10, 20, 5, 3], \n",
    "            [4, 30, 6, 9], \n",
    "            [3, 80, 1, 2]\n",
    "        ],\n",
    "        [\n",
    "            [5, 10, 20, 8],\n",
    "            [3, 80, 1, 2],\n",
    "            [30, 20, 10, 9],\n",
    "        ]\n",
    "    ]\n",
    ")\n",
    "print(f\"array.shape={array.shape}\") # (2, 3, 4)の3次元配列\n",
    "\n",
    "# 3次元配列に対してaxisを指定する場合、\n",
    "# axis=0のとき、1次元目の要素内の同じ行の要素の中で最大値のインデックスを返す\n",
    "print(f\"array.argmax(axis=0)=\\n{array.argmax(axis=0)}\")\n",
    "# axis=1のとき、2次元目の行の要素の中で最大値のインデックスを返す\n",
    "print(f\"array.argmax(axis=1)=\\n{array.argmax(axis=1)}\")\n",
    "# axis=2のとき、3次元目の配列の要素の中で最大値のインデックスを返す\n",
    "print(f\"array.argmax(axis=2)=\\n{array.argmax(axis=2)}\")\n",
    "\n",
    "# axis=Noneの場合、1次元に変換して最大値のインデックスを返す\n",
    "print(array.argmax())\n",
    "# -1の場合、最後の次元(3次元ならaxis=2）に対して最大値のインデックスを返す\n",
    "print(array.argmax(-1))"
   ]
  },
  {
   "cell_type": "code",
   "execution_count": 32,
   "metadata": {},
   "outputs": [
    {
     "name": "stdout",
     "output_type": "stream",
     "text": [
      "topk.values=\n",
      "tensor([80, 30, 20, 10,  9])\n",
      "topk.indices=\n",
      "tensor([9, 5, 1, 0, 7])\n"
     ]
    }
   ],
   "source": [
    "# topkの使い方\n",
    "# 下記の1次元配列を使う\n",
    "array = torch.tensor([10, 20, 5, 3, 4, 30, 6, 9, 3, 80, 1, 2])\n",
    "\n",
    "# valuesとindicesを並び替えたうえで取得できる\n",
    "topk = array.topk(5)\n",
    "print(f\"topk.values=\\n{topk.values}\")\n",
    "print(f\"topk.indices=\\n{topk.indices}\")"
   ]
  }
 ],
 "metadata": {
  "kernelspec": {
   "display_name": "venv",
   "language": "python",
   "name": "python3"
  },
  "language_info": {
   "codemirror_mode": {
    "name": "ipython",
    "version": 3
   },
   "file_extension": ".py",
   "mimetype": "text/x-python",
   "name": "python",
   "nbconvert_exporter": "python",
   "pygments_lexer": "ipython3",
   "version": "3.12.2"
  }
 },
 "nbformat": 4,
 "nbformat_minor": 2
}
