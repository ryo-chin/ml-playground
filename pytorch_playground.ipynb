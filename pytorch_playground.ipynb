{
 "cells": [
  {
   "cell_type": "code",
   "execution_count": 1,
   "metadata": {},
   "outputs": [
    {
     "name": "stdout",
     "output_type": "stream",
     "text": [
      "Requirement already satisfied: torch in ./venv/lib/python3.12/site-packages (2.2.2)\n",
      "Requirement already satisfied: filelock in ./venv/lib/python3.12/site-packages (from torch) (3.13.4)\n",
      "Requirement already satisfied: typing-extensions>=4.8.0 in ./venv/lib/python3.12/site-packages (from torch) (4.11.0)\n",
      "Requirement already satisfied: sympy in ./venv/lib/python3.12/site-packages (from torch) (1.12)\n",
      "Requirement already satisfied: networkx in ./venv/lib/python3.12/site-packages (from torch) (3.3)\n",
      "Requirement already satisfied: jinja2 in ./venv/lib/python3.12/site-packages (from torch) (3.1.3)\n",
      "Requirement already satisfied: fsspec in ./venv/lib/python3.12/site-packages (from torch) (2024.3.1)\n",
      "Requirement already satisfied: MarkupSafe>=2.0 in ./venv/lib/python3.12/site-packages (from jinja2->torch) (2.1.5)\n",
      "Requirement already satisfied: mpmath>=0.19 in ./venv/lib/python3.12/site-packages (from sympy->torch) (1.3.0)\n",
      "Note: you may need to restart the kernel to use updated packages.\n"
     ]
    }
   ],
   "source": [
    "%pip install torch"
   ]
  },
  {
   "cell_type": "code",
   "execution_count": 18,
   "metadata": {},
   "outputs": [
    {
     "name": "stdout",
     "output_type": "stream",
     "text": [
      "tensor([[[-0.6426, -0.4513]],\n",
      "\n",
      "        [[ 0.1769, -0.0257]],\n",
      "\n",
      "        [[-0.9018, -0.9362]]])\n",
      "tensor([[-0.6426, -0.4513],\n",
      "        [ 0.1769, -0.0257],\n",
      "        [-0.9018, -0.9362]])\n",
      "tensor([[[[-0.6426, -0.4513]],\n",
      "\n",
      "         [[ 0.1769, -0.0257]],\n",
      "\n",
      "         [[-0.9018, -0.9362]]]])\n",
      "tensor([[[-0.6426, -0.4513]],\n",
      "\n",
      "        [[-0.9018, -0.9362]]])\n"
     ]
    }
   ],
   "source": [
    "import torch\n",
    "\n",
    "# 形状が(3, 1, 2)のテンソルを作成\n",
    "x = torch.randn(3, 1, 2)\n",
    "x_squeezed = x.squeeze()\n",
    "x_unsqueezed = x.unsqueeze(0)\n",
    "\n",
    "print(x)\n",
    "print(x_squeezed)\n",
    "print(x_unsqueezed)"
   ]
  },
  {
   "cell_type": "code",
   "execution_count": 19,
   "metadata": {},
   "outputs": [
    {
     "name": "stdout",
     "output_type": "stream",
     "text": [
      "tensor([[[-0.6426, -0.4513]],\n",
      "\n",
      "        [[-0.9018, -0.9362]]])\n"
     ]
    }
   ],
   "source": [
    "# テンソルに対してindexの配列渡して、そのindexの要素を取得\n",
    "idx = [0, 2]\n",
    "print(x[idx])"
   ]
  }
 ],
 "metadata": {
  "kernelspec": {
   "display_name": "venv",
   "language": "python",
   "name": "python3"
  },
  "language_info": {
   "codemirror_mode": {
    "name": "ipython",
    "version": 3
   },
   "file_extension": ".py",
   "mimetype": "text/x-python",
   "name": "python",
   "nbconvert_exporter": "python",
   "pygments_lexer": "ipython3",
   "version": "3.12.2"
  }
 },
 "nbformat": 4,
 "nbformat_minor": 2
}
